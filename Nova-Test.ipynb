{
 "cells": [
  {
   "cell_type": "code",
   "execution_count": null,
   "id": "12ef0f3e",
   "metadata": {},
   "outputs": [],
   "source": [
    "import numpy as np"
   ]
  },
  {
   "cell_type": "code",
   "execution_count": null,
   "id": "4673e707",
   "metadata": {},
   "outputs": [],
   "source": [
    "# Input the length of a square size area SIDE which is in the form of a matrix. Each point represents a block \n",
    "Correct_datatype= False\n",
    "while Correct_datatype == False:\n",
    "    Length_of_a_square_matrix =input('Length of a side of the square area (The maximun allowable length is 1000): ')\n",
    "    try: \n",
    "        Length_of_a_square_matrix = int(Length_of_a_square_matrix)\n",
    "        if Length_of_a_square_matrix >= 1 and Length_of_a_square_matrix <= 1000:\n",
    "            Correct_datatype = True\n",
    "        else:\n",
    "            print('Input not within acceptable range (1 - 1000). Retry!')\n",
    "    except ValueError: \n",
    "            print(\"Value Inputed isn't an integer. Retry!\" )\n",
    "            Correct_datatype = False\n",
    "    if Correct_datatype == True:\n",
    "        break"
   ]
  },
  {
   "cell_type": "code",
   "execution_count": null,
   "id": "a8cb36f9",
   "metadata": {},
   "outputs": [],
   "source": [
    "# Entering the total number of blocks where pizzeria exist.\n",
    "Total_possible_pizzeria = Length_of_a_square_matrix * Length_of_a_square_matrix \n",
    "Correct_datatype= False\n",
    "while Correct_datatype == False:\n",
    "    Number_of_Blocks_with_pizzeria = input('Number of blocks with pizzeria store in the city : ')\n",
    "    try: \n",
    "        Number_of_Blocks_with_pizzeria = int(Number_of_Blocks_with_pizzeria)\n",
    "        if Number_of_Blocks_with_pizzeria >= 1 and Number_of_Blocks_with_pizzeria <= Total_possible_pizzeria:\n",
    "            Correct_datatype = True\n",
    "        else:\n",
    "            print(f'Input not within acceptable range (1 - {Total_possible_pizzeria}). Retry!')\n",
    "    except ValueError: \n",
    "            print(\"Value Inputed isn't an integer. Retry!\" )\n",
    "            Correct_datatype = False\n",
    "    if Correct_datatype == True:\n",
    "        break"
   ]
  },
  {
   "cell_type": "code",
   "execution_count": null,
   "id": "df157f4a",
   "metadata": {},
   "outputs": [],
   "source": [
    "# Entering the location and delivery distance to nearby blocks around\n",
    "correct_datatype= False\n",
    "number_of_entry = 0\n",
    "repeat = 0\n",
    "locations_dictionary ={}\n",
    "empty_list = []\n",
    "\n",
    "for x in range(Number_of_Blocks_with_pizzeria):\n",
    "    locations_dictionary[x] = empty_list\n",
    "\n",
    "\n",
    "while number_of_entry < Number_of_Blocks_with_pizzeria :\n",
    "    X_Y_K = input(\"Enter block cordinate in X and Y direction and number of blocks(k) away it can deliver to. \\nEach input should be seperated with an hypen(-) e.g 2-3-2\\n\")\n",
    "    X_Y_K_seprated = X_Y_K.split(\"-\")\n",
    "  \n",
    "    for i in X_Y_K_seprated:\n",
    "        try: \n",
    "            i = int(i)\n",
    "            if i >= 1 and i <= Length_of_a_square_matrix:\n",
    "                 Correct_datatype = True\n",
    "                \n",
    "            else:\n",
    "                print(f'Input not within acceptable range (1 - {Length_of_a_square_matrix}). Retry!')\n",
    "                Correct_datatype = False\n",
    "                break\n",
    "        except ValueError: \n",
    "            print(\"One of the input isn't an integer OR the input format is incorrect. Retry!\" )\n",
    "            Correct_datatype = False\n",
    "            break\n",
    "             \n",
    "   \n",
    "            \n",
    "    if Correct_datatype == True:\n",
    "        try:\n",
    "            x,y,z = int(X_Y_K_seprated[0]),int(X_Y_K_seprated[1]),int(X_Y_K_seprated[2])\n",
    "            x = x-1\n",
    "            y = y-1\n",
    "            list_x_y = []\n",
    "            list_x_y_z = []\n",
    "            list_x_y.append(x)\n",
    "            list_x_y.append(y)\n",
    "            list_x_y_z.append(x)\n",
    "            list_x_y_z.append(y)\n",
    "            list_x_y_z.append(z)  \n",
    "            for value in locations_dictionary.values():\n",
    "                \n",
    "                if 2 == sum([1 for i, j in zip(list_x_y, value) if i == j]):\n",
    "                    repeat = 1\n",
    "                    break\n",
    "                \n",
    "                else:\n",
    "                    repeat = 0\n",
    "            locations_dictionary[number_of_entry]= list_x_y_z\n",
    "            if repeat == 0:\n",
    "                \n",
    "                number_of_entry +=1\n",
    "            else:\n",
    "                print('location exist. Retry!')\n",
    "            \n",
    "        except IndexError:\n",
    "            print('Incomplete Entry. Retry!')\n"
   ]
  },
  {
   "cell_type": "code",
   "execution_count": null,
   "id": "f3679bbe",
   "metadata": {},
   "outputs": [],
   "source": [
    "# Inserting locations into a list\n",
    "location = []\n",
    "for i in locations_dictionary.values():\n",
    "    location.append(i)"
   ]
  },
  {
   "cell_type": "code",
   "execution_count": null,
   "id": "a5529068",
   "metadata": {},
   "outputs": [],
   "source": [
    "# Collecting location details and deliverable blocks into diffrent list\n",
    "deliverable_block_number_away = []\n",
    "x_y_direction = []\n",
    "\n",
    "for i in location:\n",
    "    x_y_direction.append(i[:2])\n",
    "    deliverable_block_number_away.append(i.pop())"
   ]
  },
  {
   "cell_type": "code",
   "execution_count": null,
   "id": "22f1465c",
   "metadata": {
    "scrolled": true
   },
   "outputs": [],
   "source": [
    "# saving all possible deliverable list locations in a \n",
    "location_collection = []\n",
    "for x,y in zip(x_y_direction, deliverable_block_number_away):\n",
    "    location_collection.append(x)\n",
    "    right_movement,left_movement,upward_movement,downward_movement =x,x,x,x\n",
    "    count = 1\n",
    "    while count <= y:\n",
    "        right_movement,left_movement,upward_movement,downward_movement = [right_movement[0]+1,right_movement[1]], [left_movement[0]-1,left_movement[1]],[upward_movement[0],upward_movement[1]+1], [downward_movement[0],downward_movement[1]-1]\n",
    "        location_collection.append(right_movement)\n",
    "        location_collection.append(left_movement)\n",
    "        location_collection.append(upward_movement)\n",
    "        location_collection.append(downward_movement)\n",
    "       \n",
    "        right_upward, right_downward,left_upward,left_downward = right_movement,right_movement,left_movement,left_movement\n",
    "        \n",
    "        for i in range(y - count):\n",
    "\n",
    "            right_upward, right_downward,left_upward,left_downward = [right_upward[0],right_upward[1]+1], [right_downward[0],right_downward[1]-1],[left_upward[0],left_upward[1]+1],[left_downward[0],left_downward[1]-1]\n",
    "            location_collection.append(right_upward)\n",
    "            location_collection.append(right_downward)\n",
    "            location_collection.append(left_upward)\n",
    "            location_collection.append(left_downward)\n",
    "\n",
    "        count = count + 1"
   ]
  },
  {
   "cell_type": "code",
   "execution_count": null,
   "id": "65c06b77",
   "metadata": {},
   "outputs": [],
   "source": [
    "# creating matrix of the town size\n",
    "town_matrix = np.zeros((Length_of_a_square_matrix,Length_of_a_square_matrix), dtype=int)"
   ]
  },
  {
   "cell_type": "code",
   "execution_count": null,
   "id": "84263e6c",
   "metadata": {},
   "outputs": [],
   "source": [
    "# saving of block locations in a list.\n",
    "block_locations = []\n",
    "for i in range(len(town_matrix)):\n",
    "    for v in range(Length_of_a_square_matrix):\n",
    "        block_locations.append([i,v])\n"
   ]
  },
  {
   "cell_type": "code",
   "execution_count": null,
   "id": "d6b4934d",
   "metadata": {},
   "outputs": [],
   "source": [
    "# Filtering away locations that doesn't in the area(matrix)\n",
    "real_locations = [x for x in location_collection if x in block_locations]\n",
    "\n"
   ]
  },
  {
   "cell_type": "code",
   "execution_count": null,
   "id": "b8b720e1",
   "metadata": {},
   "outputs": [],
   "source": [
    "# zero is added to blocks location inorder to sum number of delliverable pizzarine to each location\n",
    "for x in block_locations:\n",
    "    x.append(0)\n",
    "\n",
    "# Appending 0 to each element in real location to make it have similar shape with block locations for suming up purpose \n",
    "for x in real_locations:\n",
    "    x.append(0)"
   ]
  },
  {
   "cell_type": "code",
   "execution_count": null,
   "id": "e2628890",
   "metadata": {},
   "outputs": [],
   "source": [
    "# Summing up number of pizzaries delivrable to each block\n",
    "for x in real_locations:\n",
    "    u = x[:2]\n",
    "    for y in block_locations:\n",
    "        l = y[:2]\n",
    "        if u == l:\n",
    "            y[2] = y[2]+1"
   ]
  },
  {
   "cell_type": "code",
   "execution_count": null,
   "id": "884b0ba9",
   "metadata": {},
   "outputs": [],
   "source": [
    "# collecting number of pizzarine \n",
    "number_of_deliverable_to_eachblock = []\n",
    "for x in block_locations:\n",
    "    number_of_deliverable_to_eachblock.append(x[2])"
   ]
  },
  {
   "cell_type": "code",
   "execution_count": null,
   "id": "d372da2b",
   "metadata": {},
   "outputs": [],
   "source": [
    "# Matrix showing the deliverables to each location\n",
    "deliverable_matrix = np.array(number_of_deliverable_to_eachblock).reshape(Length_of_a_square_matrix, Length_of_a_square_matrix)\n",
    "deliverable_matrix"
   ]
  },
  {
   "cell_type": "code",
   "execution_count": null,
   "id": "1b3a5b97",
   "metadata": {},
   "outputs": [],
   "source": [
    "Locations_with_max_delivery = []\n",
    "for x in block_locations:\n",
    "    if x[2] == (max(map(max, deliverable_matrix))):\n",
    "        Locations_with_max_delivery.append(x[:2])\n",
    "print(\"Block(s) that have maximum delivery are:\", Locations_with_max_delivery)"
   ]
  }
 ],
 "metadata": {
  "kernelspec": {
   "display_name": "Python 3 (ipykernel)",
   "language": "python",
   "name": "python3"
  },
  "language_info": {
   "codemirror_mode": {
    "name": "ipython",
    "version": 3
   },
   "file_extension": ".py",
   "mimetype": "text/x-python",
   "name": "python",
   "nbconvert_exporter": "python",
   "pygments_lexer": "ipython3",
   "version": "3.10.6"
  }
 },
 "nbformat": 4,
 "nbformat_minor": 5
}
